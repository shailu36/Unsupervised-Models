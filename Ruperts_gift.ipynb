{
 "cells": [
  {
   "cell_type": "markdown",
   "id": "d0925208",
   "metadata": {},
   "source": [
    "Problem -Christmas Case Study\n",
    "Instructions Mr. & Mrs. Thomas have told their child Rupert that if he does not act like a good boy and sleep early on Christmas, this year Santa will not give him a gift. Rupert wants to verify if his parents are telling the truth. How can he verify that?\n",
    "\n",
    "Hint: Rupert has collected data from the neighbourhood houses about the behaviour of the children last year and whether Santa has given them gifts or not. He has collected the following data.\n",
    "\n",
    "House No. represents House No. or Plot No.\n",
    "\n",
    "Letter represents whether the child has written a letter to ask for a gift from Santa.\n",
    "\n",
    "Been Naughty represents whether the child has been naughty throughout the year.\n",
    "\n",
    "Age represents the age of the child.\n",
    "\n",
    "Awake/Sleep represents whether the child was awake or asleep at midnight.\n",
    "\n",
    "Gift represents whether Santa has provided them gifts.\n",
    "\n",
    "Now Rupert has noted down his activity throughout the year and his plan to stay awake at night. His response for the above table would be,\n",
    "\n",
    "House No. Letter Been Naughty Age Awake/Sleep 15 Yes Yes 12 Awake Can you help Rupert predict whether he will receive a gift?\n",
    "\n",
    "If he sleeps at midnight on Christmas, will he receive the Gift?\n",
    "\n",
    "Can you advise Rupert anything so that he receives a Gift next year?"
   ]
  },
  {
   "cell_type": "code",
   "execution_count": 38,
   "id": "5aa0708a",
   "metadata": {},
   "outputs": [],
   "source": [
    "import warnings\n",
    "warnings.filterwarnings('ignore')\n",
    "warnings.simplefilter('ignore')\n",
    "import numpy as np\n",
    "import pandas as pd\n",
    "import matplotlib.pyplot as plt\n",
    "%matplotlib inline\n",
    "import seaborn as sns\n",
    "from sklearn.cluster import KMeans\n",
    "from sklearn.metrics import silhouette_score\n",
    "\n",
    "from sklearn.preprocessing import StandardScaler\n",
    "from scipy.spatial.distance import cdist\n",
    "from yellowbrick.cluster import KElbowVisualizer, SilhouetteVisualizer"
   ]
  },
  {
   "cell_type": "code",
   "execution_count": 19,
   "id": "dbadb1c3",
   "metadata": {},
   "outputs": [
    {
     "data": {
      "text/html": [
       "<div>\n",
       "<style scoped>\n",
       "    .dataframe tbody tr th:only-of-type {\n",
       "        vertical-align: middle;\n",
       "    }\n",
       "\n",
       "    .dataframe tbody tr th {\n",
       "        vertical-align: top;\n",
       "    }\n",
       "\n",
       "    .dataframe thead th {\n",
       "        text-align: right;\n",
       "    }\n",
       "</style>\n",
       "<table border=\"1\" class=\"dataframe\">\n",
       "  <thead>\n",
       "    <tr style=\"text-align: right;\">\n",
       "      <th></th>\n",
       "      <th>House No.</th>\n",
       "      <th>Letter</th>\n",
       "      <th>Been Naughty</th>\n",
       "      <th>Age</th>\n",
       "      <th>Awake/Sleep</th>\n",
       "      <th>Gift</th>\n",
       "    </tr>\n",
       "  </thead>\n",
       "  <tbody>\n",
       "    <tr>\n",
       "      <th>0</th>\n",
       "      <td>1</td>\n",
       "      <td>Yes</td>\n",
       "      <td>No</td>\n",
       "      <td>12</td>\n",
       "      <td>Awake</td>\n",
       "      <td>No</td>\n",
       "    </tr>\n",
       "    <tr>\n",
       "      <th>1</th>\n",
       "      <td>2</td>\n",
       "      <td>No</td>\n",
       "      <td>No</td>\n",
       "      <td>18</td>\n",
       "      <td>Sleep</td>\n",
       "      <td>No</td>\n",
       "    </tr>\n",
       "    <tr>\n",
       "      <th>2</th>\n",
       "      <td>3</td>\n",
       "      <td>Yes</td>\n",
       "      <td>No</td>\n",
       "      <td>14</td>\n",
       "      <td>Sleep</td>\n",
       "      <td>Yes</td>\n",
       "    </tr>\n",
       "    <tr>\n",
       "      <th>3</th>\n",
       "      <td>4</td>\n",
       "      <td>Yes</td>\n",
       "      <td>Yes</td>\n",
       "      <td>13</td>\n",
       "      <td>Awake</td>\n",
       "      <td>No</td>\n",
       "    </tr>\n",
       "    <tr>\n",
       "      <th>4</th>\n",
       "      <td>5</td>\n",
       "      <td>Yes</td>\n",
       "      <td>Yes</td>\n",
       "      <td>14</td>\n",
       "      <td>Sleep</td>\n",
       "      <td>No</td>\n",
       "    </tr>\n",
       "    <tr>\n",
       "      <th>5</th>\n",
       "      <td>6</td>\n",
       "      <td>No</td>\n",
       "      <td>No</td>\n",
       "      <td>13</td>\n",
       "      <td>Sleep</td>\n",
       "      <td>Yes</td>\n",
       "    </tr>\n",
       "    <tr>\n",
       "      <th>6</th>\n",
       "      <td>7</td>\n",
       "      <td>Yes</td>\n",
       "      <td>No</td>\n",
       "      <td>17</td>\n",
       "      <td>Awake</td>\n",
       "      <td>No</td>\n",
       "    </tr>\n",
       "    <tr>\n",
       "      <th>7</th>\n",
       "      <td>8</td>\n",
       "      <td>No</td>\n",
       "      <td>Yes</td>\n",
       "      <td>12</td>\n",
       "      <td>Sleep</td>\n",
       "      <td>Yes</td>\n",
       "    </tr>\n",
       "    <tr>\n",
       "      <th>8</th>\n",
       "      <td>9</td>\n",
       "      <td>No</td>\n",
       "      <td>Yes</td>\n",
       "      <td>16</td>\n",
       "      <td>Sleep</td>\n",
       "      <td>No</td>\n",
       "    </tr>\n",
       "    <tr>\n",
       "      <th>9</th>\n",
       "      <td>10</td>\n",
       "      <td>Yes</td>\n",
       "      <td>Yes</td>\n",
       "      <td>17</td>\n",
       "      <td>Awake</td>\n",
       "      <td>No</td>\n",
       "    </tr>\n",
       "  </tbody>\n",
       "</table>\n",
       "</div>"
      ],
      "text/plain": [
       "   House No. Letter Been Naughty  Age Awake/Sleep Gift\n",
       "0          1    Yes           No   12       Awake   No\n",
       "1          2     No           No   18       Sleep   No\n",
       "2          3    Yes           No   14       Sleep  Yes\n",
       "3          4    Yes          Yes   13       Awake   No\n",
       "4          5    Yes          Yes   14       Sleep   No\n",
       "5          6     No           No   13       Sleep  Yes\n",
       "6          7    Yes           No   17       Awake   No\n",
       "7          8     No          Yes   12       Sleep  Yes\n",
       "8          9     No          Yes   16       Sleep   No\n",
       "9         10    Yes          Yes   17       Awake   No"
      ]
     },
     "execution_count": 19,
     "metadata": {},
     "output_type": "execute_result"
    }
   ],
   "source": [
    "data = pd.read_excel(\"Rupert's Data.xlsx\")\n",
    "data.head(10)"
   ]
  },
  {
   "cell_type": "code",
   "execution_count": 20,
   "id": "92c574a6",
   "metadata": {},
   "outputs": [
    {
     "name": "stdout",
     "output_type": "stream",
     "text": [
      "<class 'pandas.core.frame.DataFrame'>\n",
      "RangeIndex: 10 entries, 0 to 9\n",
      "Data columns (total 6 columns):\n",
      " #   Column        Non-Null Count  Dtype \n",
      "---  ------        --------------  ----- \n",
      " 0   House No.     10 non-null     int64 \n",
      " 1   Letter        10 non-null     object\n",
      " 2   Been Naughty  10 non-null     object\n",
      " 3   Age           10 non-null     int64 \n",
      " 4   Awake/Sleep   10 non-null     object\n",
      " 5   Gift          10 non-null     object\n",
      "dtypes: int64(2), object(4)\n",
      "memory usage: 608.0+ bytes\n"
     ]
    }
   ],
   "source": [
    "data.info()"
   ]
  },
  {
   "cell_type": "code",
   "execution_count": 21,
   "id": "ae1d1f39",
   "metadata": {},
   "outputs": [
    {
     "data": {
      "text/html": [
       "<div>\n",
       "<style scoped>\n",
       "    .dataframe tbody tr th:only-of-type {\n",
       "        vertical-align: middle;\n",
       "    }\n",
       "\n",
       "    .dataframe tbody tr th {\n",
       "        vertical-align: top;\n",
       "    }\n",
       "\n",
       "    .dataframe thead th {\n",
       "        text-align: right;\n",
       "    }\n",
       "</style>\n",
       "<table border=\"1\" class=\"dataframe\">\n",
       "  <thead>\n",
       "    <tr style=\"text-align: right;\">\n",
       "      <th></th>\n",
       "      <th>House No.</th>\n",
       "      <th>Age</th>\n",
       "    </tr>\n",
       "  </thead>\n",
       "  <tbody>\n",
       "    <tr>\n",
       "      <th>count</th>\n",
       "      <td>10.00000</td>\n",
       "      <td>10.000000</td>\n",
       "    </tr>\n",
       "    <tr>\n",
       "      <th>mean</th>\n",
       "      <td>5.50000</td>\n",
       "      <td>14.600000</td>\n",
       "    </tr>\n",
       "    <tr>\n",
       "      <th>std</th>\n",
       "      <td>3.02765</td>\n",
       "      <td>2.221111</td>\n",
       "    </tr>\n",
       "    <tr>\n",
       "      <th>min</th>\n",
       "      <td>1.00000</td>\n",
       "      <td>12.000000</td>\n",
       "    </tr>\n",
       "    <tr>\n",
       "      <th>25%</th>\n",
       "      <td>3.25000</td>\n",
       "      <td>13.000000</td>\n",
       "    </tr>\n",
       "    <tr>\n",
       "      <th>50%</th>\n",
       "      <td>5.50000</td>\n",
       "      <td>14.000000</td>\n",
       "    </tr>\n",
       "    <tr>\n",
       "      <th>75%</th>\n",
       "      <td>7.75000</td>\n",
       "      <td>16.750000</td>\n",
       "    </tr>\n",
       "    <tr>\n",
       "      <th>max</th>\n",
       "      <td>10.00000</td>\n",
       "      <td>18.000000</td>\n",
       "    </tr>\n",
       "  </tbody>\n",
       "</table>\n",
       "</div>"
      ],
      "text/plain": [
       "       House No.        Age\n",
       "count   10.00000  10.000000\n",
       "mean     5.50000  14.600000\n",
       "std      3.02765   2.221111\n",
       "min      1.00000  12.000000\n",
       "25%      3.25000  13.000000\n",
       "50%      5.50000  14.000000\n",
       "75%      7.75000  16.750000\n",
       "max     10.00000  18.000000"
      ]
     },
     "execution_count": 21,
     "metadata": {},
     "output_type": "execute_result"
    }
   ],
   "source": [
    "data.describe()"
   ]
  },
  {
   "cell_type": "code",
   "execution_count": 22,
   "id": "f991fa36",
   "metadata": {},
   "outputs": [
    {
     "data": {
      "text/plain": [
       "(10, 6)"
      ]
     },
     "execution_count": 22,
     "metadata": {},
     "output_type": "execute_result"
    }
   ],
   "source": [
    "data.shape"
   ]
  },
  {
   "cell_type": "code",
   "execution_count": 23,
   "id": "16e0d341",
   "metadata": {},
   "outputs": [],
   "source": [
    "df=data.copy()"
   ]
  },
  {
   "cell_type": "code",
   "execution_count": 24,
   "id": "7bec7771",
   "metadata": {},
   "outputs": [],
   "source": [
    "df.columns= (c.replace(\" \",\"_\") for c in df.columns)"
   ]
  },
  {
   "cell_type": "code",
   "execution_count": 25,
   "id": "42bb43c3",
   "metadata": {},
   "outputs": [],
   "source": [
    "df.drop('House_No.',axis=1,inplace=True)"
   ]
  },
  {
   "cell_type": "code",
   "execution_count": 26,
   "id": "eb7af72f",
   "metadata": {},
   "outputs": [],
   "source": [
    "df.Letter.replace(('Yes','No'),(1,0),inplace=True)"
   ]
  },
  {
   "cell_type": "code",
   "execution_count": 27,
   "id": "b883d6db",
   "metadata": {},
   "outputs": [],
   "source": [
    "df.Been_Naughty.replace(('Yes','No'),(0,1),inplace =True)"
   ]
  },
  {
   "cell_type": "code",
   "execution_count": 28,
   "id": "b5f139d6",
   "metadata": {},
   "outputs": [],
   "source": [
    "df.Gift.replace((\"Yes\",\"No\"),(1,0),inplace=True)"
   ]
  },
  {
   "cell_type": "code",
   "execution_count": 30,
   "id": "f06e55e3",
   "metadata": {},
   "outputs": [],
   "source": [
    "df.columns = (c.replace('/','_') for c in df.columns)"
   ]
  },
  {
   "cell_type": "code",
   "execution_count": 31,
   "id": "46ebc122",
   "metadata": {},
   "outputs": [],
   "source": [
    "df.Awake_Sleep.replace(('Awake','Sleep'),(0,1), inplace=True)"
   ]
  },
  {
   "cell_type": "code",
   "execution_count": 32,
   "id": "3e7f3820",
   "metadata": {},
   "outputs": [
    {
     "data": {
      "text/html": [
       "<div>\n",
       "<style scoped>\n",
       "    .dataframe tbody tr th:only-of-type {\n",
       "        vertical-align: middle;\n",
       "    }\n",
       "\n",
       "    .dataframe tbody tr th {\n",
       "        vertical-align: top;\n",
       "    }\n",
       "\n",
       "    .dataframe thead th {\n",
       "        text-align: right;\n",
       "    }\n",
       "</style>\n",
       "<table border=\"1\" class=\"dataframe\">\n",
       "  <thead>\n",
       "    <tr style=\"text-align: right;\">\n",
       "      <th></th>\n",
       "      <th>Letter</th>\n",
       "      <th>Been_Naughty</th>\n",
       "      <th>Age</th>\n",
       "      <th>Awake_Sleep</th>\n",
       "      <th>Gift</th>\n",
       "    </tr>\n",
       "  </thead>\n",
       "  <tbody>\n",
       "    <tr>\n",
       "      <th>0</th>\n",
       "      <td>1</td>\n",
       "      <td>1</td>\n",
       "      <td>12</td>\n",
       "      <td>0</td>\n",
       "      <td>0</td>\n",
       "    </tr>\n",
       "    <tr>\n",
       "      <th>1</th>\n",
       "      <td>0</td>\n",
       "      <td>1</td>\n",
       "      <td>18</td>\n",
       "      <td>1</td>\n",
       "      <td>0</td>\n",
       "    </tr>\n",
       "    <tr>\n",
       "      <th>2</th>\n",
       "      <td>1</td>\n",
       "      <td>1</td>\n",
       "      <td>14</td>\n",
       "      <td>1</td>\n",
       "      <td>1</td>\n",
       "    </tr>\n",
       "    <tr>\n",
       "      <th>3</th>\n",
       "      <td>1</td>\n",
       "      <td>0</td>\n",
       "      <td>13</td>\n",
       "      <td>0</td>\n",
       "      <td>0</td>\n",
       "    </tr>\n",
       "    <tr>\n",
       "      <th>4</th>\n",
       "      <td>1</td>\n",
       "      <td>0</td>\n",
       "      <td>14</td>\n",
       "      <td>1</td>\n",
       "      <td>0</td>\n",
       "    </tr>\n",
       "    <tr>\n",
       "      <th>5</th>\n",
       "      <td>0</td>\n",
       "      <td>1</td>\n",
       "      <td>13</td>\n",
       "      <td>1</td>\n",
       "      <td>1</td>\n",
       "    </tr>\n",
       "    <tr>\n",
       "      <th>6</th>\n",
       "      <td>1</td>\n",
       "      <td>1</td>\n",
       "      <td>17</td>\n",
       "      <td>0</td>\n",
       "      <td>0</td>\n",
       "    </tr>\n",
       "    <tr>\n",
       "      <th>7</th>\n",
       "      <td>0</td>\n",
       "      <td>0</td>\n",
       "      <td>12</td>\n",
       "      <td>1</td>\n",
       "      <td>1</td>\n",
       "    </tr>\n",
       "    <tr>\n",
       "      <th>8</th>\n",
       "      <td>0</td>\n",
       "      <td>0</td>\n",
       "      <td>16</td>\n",
       "      <td>1</td>\n",
       "      <td>0</td>\n",
       "    </tr>\n",
       "    <tr>\n",
       "      <th>9</th>\n",
       "      <td>1</td>\n",
       "      <td>0</td>\n",
       "      <td>17</td>\n",
       "      <td>0</td>\n",
       "      <td>0</td>\n",
       "    </tr>\n",
       "  </tbody>\n",
       "</table>\n",
       "</div>"
      ],
      "text/plain": [
       "   Letter  Been_Naughty  Age  Awake_Sleep  Gift\n",
       "0       1             1   12            0     0\n",
       "1       0             1   18            1     0\n",
       "2       1             1   14            1     1\n",
       "3       1             0   13            0     0\n",
       "4       1             0   14            1     0\n",
       "5       0             1   13            1     1\n",
       "6       1             1   17            0     0\n",
       "7       0             0   12            1     1\n",
       "8       0             0   16            1     0\n",
       "9       1             0   17            0     0"
      ]
     },
     "execution_count": 32,
     "metadata": {},
     "output_type": "execute_result"
    }
   ],
   "source": [
    "df.head(10)"
   ]
  },
  {
   "cell_type": "code",
   "execution_count": 33,
   "id": "165ea214",
   "metadata": {},
   "outputs": [],
   "source": [
    "num_col=df.columns.tolist()"
   ]
  },
  {
   "cell_type": "code",
   "execution_count": 34,
   "id": "c490f6b1",
   "metadata": {},
   "outputs": [],
   "source": [
    "scalar = StandardScaler()\n",
    "subset = df[num_col].copy()\n",
    "subset_scaled = scalar.fit_transform(subset)"
   ]
  },
  {
   "cell_type": "code",
   "execution_count": 35,
   "id": "631a0e35",
   "metadata": {},
   "outputs": [],
   "source": [
    "subset_scaled_df = pd.DataFrame(subset_scaled, columns=subset.columns)"
   ]
  },
  {
   "cell_type": "code",
   "execution_count": 36,
   "id": "c753dc91",
   "metadata": {},
   "outputs": [
    {
     "data": {
      "text/html": [
       "<div>\n",
       "<style scoped>\n",
       "    .dataframe tbody tr th:only-of-type {\n",
       "        vertical-align: middle;\n",
       "    }\n",
       "\n",
       "    .dataframe tbody tr th {\n",
       "        vertical-align: top;\n",
       "    }\n",
       "\n",
       "    .dataframe thead th {\n",
       "        text-align: right;\n",
       "    }\n",
       "</style>\n",
       "<table border=\"1\" class=\"dataframe\">\n",
       "  <thead>\n",
       "    <tr style=\"text-align: right;\">\n",
       "      <th></th>\n",
       "      <th>Letter</th>\n",
       "      <th>Been_Naughty</th>\n",
       "      <th>Age</th>\n",
       "      <th>Awake_Sleep</th>\n",
       "      <th>Gift</th>\n",
       "    </tr>\n",
       "  </thead>\n",
       "  <tbody>\n",
       "    <tr>\n",
       "      <th>0</th>\n",
       "      <td>0.816497</td>\n",
       "      <td>1.0</td>\n",
       "      <td>-1.233905</td>\n",
       "      <td>-1.224745</td>\n",
       "      <td>-0.654654</td>\n",
       "    </tr>\n",
       "    <tr>\n",
       "      <th>1</th>\n",
       "      <td>-1.224745</td>\n",
       "      <td>1.0</td>\n",
       "      <td>1.613569</td>\n",
       "      <td>0.816497</td>\n",
       "      <td>-0.654654</td>\n",
       "    </tr>\n",
       "    <tr>\n",
       "      <th>2</th>\n",
       "      <td>0.816497</td>\n",
       "      <td>1.0</td>\n",
       "      <td>-0.284747</td>\n",
       "      <td>0.816497</td>\n",
       "      <td>1.527525</td>\n",
       "    </tr>\n",
       "    <tr>\n",
       "      <th>3</th>\n",
       "      <td>0.816497</td>\n",
       "      <td>-1.0</td>\n",
       "      <td>-0.759326</td>\n",
       "      <td>-1.224745</td>\n",
       "      <td>-0.654654</td>\n",
       "    </tr>\n",
       "    <tr>\n",
       "      <th>4</th>\n",
       "      <td>0.816497</td>\n",
       "      <td>-1.0</td>\n",
       "      <td>-0.284747</td>\n",
       "      <td>0.816497</td>\n",
       "      <td>-0.654654</td>\n",
       "    </tr>\n",
       "    <tr>\n",
       "      <th>5</th>\n",
       "      <td>-1.224745</td>\n",
       "      <td>1.0</td>\n",
       "      <td>-0.759326</td>\n",
       "      <td>0.816497</td>\n",
       "      <td>1.527525</td>\n",
       "    </tr>\n",
       "    <tr>\n",
       "      <th>6</th>\n",
       "      <td>0.816497</td>\n",
       "      <td>1.0</td>\n",
       "      <td>1.138990</td>\n",
       "      <td>-1.224745</td>\n",
       "      <td>-0.654654</td>\n",
       "    </tr>\n",
       "    <tr>\n",
       "      <th>7</th>\n",
       "      <td>-1.224745</td>\n",
       "      <td>-1.0</td>\n",
       "      <td>-1.233905</td>\n",
       "      <td>0.816497</td>\n",
       "      <td>1.527525</td>\n",
       "    </tr>\n",
       "    <tr>\n",
       "      <th>8</th>\n",
       "      <td>-1.224745</td>\n",
       "      <td>-1.0</td>\n",
       "      <td>0.664411</td>\n",
       "      <td>0.816497</td>\n",
       "      <td>-0.654654</td>\n",
       "    </tr>\n",
       "    <tr>\n",
       "      <th>9</th>\n",
       "      <td>0.816497</td>\n",
       "      <td>-1.0</td>\n",
       "      <td>1.138990</td>\n",
       "      <td>-1.224745</td>\n",
       "      <td>-0.654654</td>\n",
       "    </tr>\n",
       "  </tbody>\n",
       "</table>\n",
       "</div>"
      ],
      "text/plain": [
       "     Letter  Been_Naughty       Age  Awake_Sleep      Gift\n",
       "0  0.816497           1.0 -1.233905    -1.224745 -0.654654\n",
       "1 -1.224745           1.0  1.613569     0.816497 -0.654654\n",
       "2  0.816497           1.0 -0.284747     0.816497  1.527525\n",
       "3  0.816497          -1.0 -0.759326    -1.224745 -0.654654\n",
       "4  0.816497          -1.0 -0.284747     0.816497 -0.654654\n",
       "5 -1.224745           1.0 -0.759326     0.816497  1.527525\n",
       "6  0.816497           1.0  1.138990    -1.224745 -0.654654\n",
       "7 -1.224745          -1.0 -1.233905     0.816497  1.527525\n",
       "8 -1.224745          -1.0  0.664411     0.816497 -0.654654\n",
       "9  0.816497          -1.0  1.138990    -1.224745 -0.654654"
      ]
     },
     "execution_count": 36,
     "metadata": {},
     "output_type": "execute_result"
    }
   ],
   "source": [
    "subset_scaled_df.head(10)"
   ]
  },
  {
   "cell_type": "code",
   "execution_count": 40,
   "id": "59ff31fe",
   "metadata": {},
   "outputs": [
    {
     "name": "stdout",
     "output_type": "stream",
     "text": [
      "Number of Clusters: 1 \tAverage Distortion: 2.2207584295155014\n",
      "Number of Clusters: 2 \tAverage Distortion: 1.7617980305516365\n",
      "Number of Clusters: 3 \tAverage Distortion: 1.4264901998463235\n",
      "Number of Clusters: 4 \tAverage Distortion: 1.2437706912011008\n",
      "Number of Clusters: 5 \tAverage Distortion: 1.038239344102151\n",
      "Number of Clusters: 6 \tAverage Distortion: 0.8365017221143093\n",
      "Number of Clusters: 7 \tAverage Distortion: 0.6111070529789158\n",
      "Number of Clusters: 8 \tAverage Distortion: 0.3953851256399577\n"
     ]
    },
    {
     "data": {
      "image/png": "[encoded data removed]",
      "text/plain": [
       "<Figure size 432x288 with 1 Axes>"
      ]
     },
     "metadata": {
      "needs_background": "light"
     },
     "output_type": "display_data"
    }
   ],
   "source": [
    "clusters = range(1, 9)\n",
    "meanDistortions = []\n",
    "\n",
    "for k in clusters:\n",
    "    model = KMeans(n_clusters=k)\n",
    "    model.fit(subset_scaled_df)\n",
    "    prediction = model.predict(subset_scaled_df)\n",
    "    distortion = (\n",
    "        sum(\n",
    "            np.min(cdist(subset_scaled_df, model.cluster_centers_, \"euclidean\"), axis=1)\n",
    "        )\n",
    "        / subset_scaled_df.shape[0]\n",
    "    )\n",
    "\n",
    "    meanDistortions.append(distortion)\n",
    "\n",
    "    print(\"Number of Clusters:\", k, \"\\tAverage Distortion:\", distortion)\n",
    "\n",
    "plt.plot(clusters, meanDistortions, \"bx-\")\n",
    "plt.xlabel(\"k\")\n",
    "plt.ylabel(\"Average distortion\")\n",
    "plt.title(\"Selecting k with the Elbow Method\")\n",
    "plt.show()"
   ]
  },
  {
   "cell_type": "code",
   "execution_count": 41,
   "id": "55e0b5dc",
   "metadata": {},
   "outputs": [
    {
     "name": "stdout",
     "output_type": "stream",
     "text": [
      "For n_clusters = 2, the silhouette score is 0.22202164313101633)\n",
      "For n_clusters = 3, the silhouette score is 0.2781748868274453)\n",
      "For n_clusters = 4, the silhouette score is 0.21575306441225614)\n",
      "For n_clusters = 5, the silhouette score is 0.17088124020164153)\n",
      "For n_clusters = 6, the silhouette score is 0.13538626812131271)\n",
      "For n_clusters = 7, the silhouette score is 0.07237225418873099)\n",
      "For n_clusters = 8, the silhouette score is 0.04357980411482034)\n",
      "For n_clusters = 9, the silhouette score is 0.012732781116828037)\n"
     ]
    },
    {
     "data": {
      "image/png": "[encoded data removed]",
      "text/plain": [
       "<Figure size 432x288 with 1 Axes>"
      ]
     },
     "metadata": {
      "needs_background": "light"
     },
     "output_type": "display_data"
    }
   ],
   "source": [
    "sil_score = []\n",
    "cluster_list = list(range(2, 10))\n",
    "for n_clusters in cluster_list:\n",
    "    clusterer = KMeans(n_clusters=n_clusters)\n",
    "    preds = clusterer.fit_predict((subset_scaled_df))\n",
    "    # centers = clusterer.cluster_centers_\n",
    "    score = silhouette_score(subset_scaled_df, preds)\n",
    "    sil_score.append(score)\n",
    "    print(\"For n_clusters = {}, the silhouette score is {})\".format(n_clusters, score))\n",
    "\n",
    "plt.plot(cluster_list, sil_score)\n",
    "plt.show()"
   ]
  },
  {
   "cell_type": "code",
   "execution_count": 42,
   "id": "3ab277fa",
   "metadata": {},
   "outputs": [
    {
     "data": {
      "image/png": "[encoded data removed]",
      "text/plain": [
       "<Figure size 432x288 with 1 Axes>"
      ]
     },
     "metadata": {
      "needs_background": "light"
     },
     "output_type": "display_data"
    },
    {
     "data": {
      "text/plain": [
       "<AxesSubplot:title={'center':'Silhouette Plot of KMeans Clustering for 10 Samples in 3 Centers'}, xlabel='silhouette coefficient values', ylabel='cluster label'>"
      ]
     },
     "execution_count": 42,
     "metadata": {},
     "output_type": "execute_result"
    }
   ],
   "source": [
    "visualizer = SilhouetteVisualizer(KMeans(3, random_state=1))\n",
    "visualizer.fit(subset_scaled_df)\n",
    "visualizer.show()"
   ]
  },
  {
   "cell_type": "code",
   "execution_count": 43,
   "id": "32387015",
   "metadata": {},
   "outputs": [
    {
     "data": {
      "image/png": "[encoded data removed]",
      "text/plain": [
       "<Figure size 432x288 with 1 Axes>"
      ]
     },
     "metadata": {
      "needs_background": "light"
     },
     "output_type": "display_data"
    },
    {
     "data": {
      "text/plain": [
       "<AxesSubplot:title={'center':'Silhouette Plot of KMeans Clustering for 10 Samples in 4 Centers'}, xlabel='silhouette coefficient values', ylabel='cluster label'>"
      ]
     },
     "execution_count": 43,
     "metadata": {},
     "output_type": "execute_result"
    }
   ],
   "source": [
    "# finding optimal no. of clusters with silhouette coefficients\n",
    "visualizer = SilhouetteVisualizer(KMeans(4, random_state=1))\n",
    "visualizer.fit(subset_scaled_df)\n",
    "visualizer.show()"
   ]
  },
  {
   "cell_type": "code",
   "execution_count": 44,
   "id": "a3afae5f",
   "metadata": {},
   "outputs": [
    {
     "data": {
      "text/plain": [
       "KMeans(n_clusters=3, random_state=0)"
      ]
     },
     "execution_count": 44,
     "metadata": {},
     "output_type": "execute_result"
    }
   ],
   "source": [
    "# let's take 3 as number of clusters\n",
    "kmeans = KMeans(n_clusters=3, random_state=0)\n",
    "kmeans.fit(subset_scaled_df)"
   ]
  },
  {
   "cell_type": "code",
   "execution_count": 45,
   "id": "f24f24c7",
   "metadata": {},
   "outputs": [],
   "source": [
    "# adding kmeans cluster labels to the original and scaled dataframes\n",
    "\n",
    "df[\"K_means_segments\"] = kmeans.labels_\n",
    "subset_scaled_df[\"K_means_segments\"] = kmeans.labels_"
   ]
  },
  {
   "cell_type": "code",
   "execution_count": 46,
   "id": "62e70df9",
   "metadata": {},
   "outputs": [],
   "source": [
    "cluster_profile = df.groupby(\"K_means_segments\").mean()"
   ]
  },
  {
   "cell_type": "code",
   "execution_count": 47,
   "id": "ae30e49e",
   "metadata": {},
   "outputs": [],
   "source": [
    "cluster_profile[\"count_in_each_segments\"] = (\n",
    "    df.groupby(\"K_means_segments\")[\"Gift\"].count().values\n",
    ")"
   ]
  },
  {
   "cell_type": "code",
   "execution_count": 48,
   "id": "20a208b8",
   "metadata": {},
   "outputs": [
    {
     "data": {
      "image/png": "[encoded data removed]",
      "text/plain": [
       "<Figure size 1152x432 with 5 Axes>"
      ]
     },
     "metadata": {
      "needs_background": "light"
     },
     "output_type": "display_data"
    }
   ],
   "source": [
    "fig, axes = plt.subplots(1, 5, figsize=(16, 6))\n",
    "fig.suptitle(\"Boxplot of scaled numerical variables for each cluster\", fontsize=20)\n",
    "counter = 0\n",
    "for ii in range(5):\n",
    "    sns.boxplot(\n",
    "        ax=axes[ii],\n",
    "        y=subset_scaled_df[num_col[counter]],\n",
    "        x=subset_scaled_df[\"K_means_segments\"],\n",
    "    )\n",
    "    counter = counter + 1\n",
    "\n",
    "fig.tight_layout(pad=2.0)"
   ]
  },
  {
   "cell_type": "code",
   "execution_count": 49,
   "id": "86406c27",
   "metadata": {},
   "outputs": [
    {
     "data": {
      "text/html": [
       "<style  type=\"text/css\" >\n",
       "#T_c0f15_row0_col1,#T_c0f15_row0_col3,#T_c0f15_row0_col4,#T_c0f15_row1_col0,#T_c0f15_row1_col5,#T_c0f15_row2_col2,#T_c0f15_row2_col3{\n",
       "            background-color:  lightgreen;\n",
       "        }</style><table id=\"T_c0f15_\" ><thead>    <tr>        <th class=\"blank level0\" ></th>        <th class=\"col_heading level0 col0\" >Letter</th>        <th class=\"col_heading level0 col1\" >Been_Naughty</th>        <th class=\"col_heading level0 col2\" >Age</th>        <th class=\"col_heading level0 col3\" >Awake_Sleep</th>        <th class=\"col_heading level0 col4\" >Gift</th>        <th class=\"col_heading level0 col5\" >count_in_each_segments</th>    </tr>    <tr>        <th class=\"index_name level0\" >K_means_segments</th>        <th class=\"blank\" ></th>        <th class=\"blank\" ></th>        <th class=\"blank\" ></th>        <th class=\"blank\" ></th>        <th class=\"blank\" ></th>        <th class=\"blank\" ></th>    </tr></thead><tbody>\n",
       "                <tr>\n",
       "                        <th id=\"T_c0f15_level0_row0\" class=\"row_heading level0 row0\" >0</th>\n",
       "                        <td id=\"T_c0f15_row0_col0\" class=\"data row0 col0\" >0.333333</td>\n",
       "                        <td id=\"T_c0f15_row0_col1\" class=\"data row0 col1\" >0.666667</td>\n",
       "                        <td id=\"T_c0f15_row0_col2\" class=\"data row0 col2\" >13.000000</td>\n",
       "                        <td id=\"T_c0f15_row0_col3\" class=\"data row0 col3\" >1.000000</td>\n",
       "                        <td id=\"T_c0f15_row0_col4\" class=\"data row0 col4\" >1.000000</td>\n",
       "                        <td id=\"T_c0f15_row0_col5\" class=\"data row0 col5\" >3</td>\n",
       "            </tr>\n",
       "            <tr>\n",
       "                        <th id=\"T_c0f15_level0_row1\" class=\"row_heading level0 row1\" >1</th>\n",
       "                        <td id=\"T_c0f15_row1_col0\" class=\"data row1 col0\" >1.000000</td>\n",
       "                        <td id=\"T_c0f15_row1_col1\" class=\"data row1 col1\" >0.400000</td>\n",
       "                        <td id=\"T_c0f15_row1_col2\" class=\"data row1 col2\" >14.600000</td>\n",
       "                        <td id=\"T_c0f15_row1_col3\" class=\"data row1 col3\" >0.200000</td>\n",
       "                        <td id=\"T_c0f15_row1_col4\" class=\"data row1 col4\" >0.000000</td>\n",
       "                        <td id=\"T_c0f15_row1_col5\" class=\"data row1 col5\" >5</td>\n",
       "            </tr>\n",
       "            <tr>\n",
       "                        <th id=\"T_c0f15_level0_row2\" class=\"row_heading level0 row2\" >2</th>\n",
       "                        <td id=\"T_c0f15_row2_col0\" class=\"data row2 col0\" >0.000000</td>\n",
       "                        <td id=\"T_c0f15_row2_col1\" class=\"data row2 col1\" >0.500000</td>\n",
       "                        <td id=\"T_c0f15_row2_col2\" class=\"data row2 col2\" >17.000000</td>\n",
       "                        <td id=\"T_c0f15_row2_col3\" class=\"data row2 col3\" >1.000000</td>\n",
       "                        <td id=\"T_c0f15_row2_col4\" class=\"data row2 col4\" >0.000000</td>\n",
       "                        <td id=\"T_c0f15_row2_col5\" class=\"data row2 col5\" >2</td>\n",
       "            </tr>\n",
       "    </tbody></table>"
      ],
      "text/plain": [
       "<pandas.io.formats.style.Styler at 0x1dc6c447df0>"
      ]
     },
     "execution_count": 49,
     "metadata": {},
     "output_type": "execute_result"
    }
   ],
   "source": [
    "# let's display cluster profiles\n",
    "cluster_profile.style.highlight_max(color=\"lightgreen\", axis=0)"
   ]
  },
  {
   "cell_type": "code",
   "execution_count": 50,
   "id": "8aa5720e",
   "metadata": {},
   "outputs": [
    {
     "data": {
      "text/html": [
       "<div>\n",
       "<style scoped>\n",
       "    .dataframe tbody tr th:only-of-type {\n",
       "        vertical-align: middle;\n",
       "    }\n",
       "\n",
       "    .dataframe tbody tr th {\n",
       "        vertical-align: top;\n",
       "    }\n",
       "\n",
       "    .dataframe thead th {\n",
       "        text-align: right;\n",
       "    }\n",
       "</style>\n",
       "<table border=\"1\" class=\"dataframe\">\n",
       "  <thead>\n",
       "    <tr style=\"text-align: right;\">\n",
       "      <th>Gift</th>\n",
       "      <th>0</th>\n",
       "      <th>1</th>\n",
       "      <th>All</th>\n",
       "    </tr>\n",
       "    <tr>\n",
       "      <th>Awake_Sleep</th>\n",
       "      <th></th>\n",
       "      <th></th>\n",
       "      <th></th>\n",
       "    </tr>\n",
       "  </thead>\n",
       "  <tbody>\n",
       "    <tr>\n",
       "      <th>0</th>\n",
       "      <td>4</td>\n",
       "      <td>0</td>\n",
       "      <td>4</td>\n",
       "    </tr>\n",
       "    <tr>\n",
       "      <th>1</th>\n",
       "      <td>3</td>\n",
       "      <td>3</td>\n",
       "      <td>6</td>\n",
       "    </tr>\n",
       "    <tr>\n",
       "      <th>All</th>\n",
       "      <td>7</td>\n",
       "      <td>3</td>\n",
       "      <td>10</td>\n",
       "    </tr>\n",
       "  </tbody>\n",
       "</table>\n",
       "</div>"
      ],
      "text/plain": [
       "Gift         0  1  All\n",
       "Awake_Sleep           \n",
       "0            4  0    4\n",
       "1            3  3    6\n",
       "All          7  3   10"
      ]
     },
     "execution_count": 50,
     "metadata": {},
     "output_type": "execute_result"
    }
   ],
   "source": [
    "pd.crosstab(df.Awake_Sleep,df.Gift,margins=True)"
   ]
  },
  {
   "cell_type": "code",
   "execution_count": 51,
   "id": "27bc6f64",
   "metadata": {},
   "outputs": [
    {
     "data": {
      "text/html": [
       "<div>\n",
       "<style scoped>\n",
       "    .dataframe tbody tr th:only-of-type {\n",
       "        vertical-align: middle;\n",
       "    }\n",
       "\n",
       "    .dataframe tbody tr th {\n",
       "        vertical-align: top;\n",
       "    }\n",
       "\n",
       "    .dataframe thead th {\n",
       "        text-align: right;\n",
       "    }\n",
       "</style>\n",
       "<table border=\"1\" class=\"dataframe\">\n",
       "  <thead>\n",
       "    <tr style=\"text-align: right;\">\n",
       "      <th>Gift</th>\n",
       "      <th>0</th>\n",
       "      <th>1</th>\n",
       "      <th>All</th>\n",
       "    </tr>\n",
       "    <tr>\n",
       "      <th>Been_Naughty</th>\n",
       "      <th></th>\n",
       "      <th></th>\n",
       "      <th></th>\n",
       "    </tr>\n",
       "  </thead>\n",
       "  <tbody>\n",
       "    <tr>\n",
       "      <th>0</th>\n",
       "      <td>4</td>\n",
       "      <td>1</td>\n",
       "      <td>5</td>\n",
       "    </tr>\n",
       "    <tr>\n",
       "      <th>1</th>\n",
       "      <td>3</td>\n",
       "      <td>2</td>\n",
       "      <td>5</td>\n",
       "    </tr>\n",
       "    <tr>\n",
       "      <th>All</th>\n",
       "      <td>7</td>\n",
       "      <td>3</td>\n",
       "      <td>10</td>\n",
       "    </tr>\n",
       "  </tbody>\n",
       "</table>\n",
       "</div>"
      ],
      "text/plain": [
       "Gift          0  1  All\n",
       "Been_Naughty           \n",
       "0             4  1    5\n",
       "1             3  2    5\n",
       "All           7  3   10"
      ]
     },
     "execution_count": 51,
     "metadata": {},
     "output_type": "execute_result"
    }
   ],
   "source": [
    "pd.crosstab(df.Been_Naughty,df.Gift,margins=True)"
   ]
  },
  {
   "cell_type": "code",
   "execution_count": 52,
   "id": "589da95f",
   "metadata": {},
   "outputs": [
    {
     "data": {
      "text/html": [
       "<div>\n",
       "<style scoped>\n",
       "    .dataframe tbody tr th:only-of-type {\n",
       "        vertical-align: middle;\n",
       "    }\n",
       "\n",
       "    .dataframe tbody tr th {\n",
       "        vertical-align: top;\n",
       "    }\n",
       "\n",
       "    .dataframe thead th {\n",
       "        text-align: right;\n",
       "    }\n",
       "</style>\n",
       "<table border=\"1\" class=\"dataframe\">\n",
       "  <thead>\n",
       "    <tr style=\"text-align: right;\">\n",
       "      <th>Gift</th>\n",
       "      <th>0</th>\n",
       "      <th>1</th>\n",
       "      <th>All</th>\n",
       "    </tr>\n",
       "    <tr>\n",
       "      <th>Age</th>\n",
       "      <th></th>\n",
       "      <th></th>\n",
       "      <th></th>\n",
       "    </tr>\n",
       "  </thead>\n",
       "  <tbody>\n",
       "    <tr>\n",
       "      <th>12</th>\n",
       "      <td>1</td>\n",
       "      <td>1</td>\n",
       "      <td>2</td>\n",
       "    </tr>\n",
       "    <tr>\n",
       "      <th>13</th>\n",
       "      <td>1</td>\n",
       "      <td>1</td>\n",
       "      <td>2</td>\n",
       "    </tr>\n",
       "    <tr>\n",
       "      <th>14</th>\n",
       "      <td>1</td>\n",
       "      <td>1</td>\n",
       "      <td>2</td>\n",
       "    </tr>\n",
       "    <tr>\n",
       "      <th>16</th>\n",
       "      <td>1</td>\n",
       "      <td>0</td>\n",
       "      <td>1</td>\n",
       "    </tr>\n",
       "    <tr>\n",
       "      <th>17</th>\n",
       "      <td>2</td>\n",
       "      <td>0</td>\n",
       "      <td>2</td>\n",
       "    </tr>\n",
       "    <tr>\n",
       "      <th>18</th>\n",
       "      <td>1</td>\n",
       "      <td>0</td>\n",
       "      <td>1</td>\n",
       "    </tr>\n",
       "    <tr>\n",
       "      <th>All</th>\n",
       "      <td>7</td>\n",
       "      <td>3</td>\n",
       "      <td>10</td>\n",
       "    </tr>\n",
       "  </tbody>\n",
       "</table>\n",
       "</div>"
      ],
      "text/plain": [
       "Gift  0  1  All\n",
       "Age            \n",
       "12    1  1    2\n",
       "13    1  1    2\n",
       "14    1  1    2\n",
       "16    1  0    1\n",
       "17    2  0    2\n",
       "18    1  0    1\n",
       "All   7  3   10"
      ]
     },
     "execution_count": 52,
     "metadata": {},
     "output_type": "execute_result"
    }
   ],
   "source": [
    "pd.crosstab(df.Age,df.Gift,margins=True)"
   ]
  },
  {
   "cell_type": "markdown",
   "id": "9657dd37",
   "metadata": {},
   "source": [
    "### Observation and Recomendation\n",
    "Can you help Rupert predict whether he will receive a gift?\n",
    "Unfortunately no as he does not falls in Cluster 0. That cluster are made up of kids who sleep and are younger than 14.\n",
    "\n",
    "### If he sleeps at midnight on Christmas, will he receive the Gift?\n",
    "Most likely he will receive a gift if he sleeps the night and be a good boy. since the two main factors that effect these are sleep on Christmas eve and Age and being naughty.\n",
    "\n",
    "### Can you advise Rupert anything so that he receives a Gift next year?\n",
    "Yes, he will need sleep on christmas eve and maybe he would receive a gift next year. But santa seems to favor children under the age of 14. So as he grows older even if he sleeps the night before christmas he may still not receive his gift."
   ]
  },
  {
   "cell_type": "code",
   "execution_count": null,
   "id": "59ad2d04",
   "metadata": {},
   "outputs": [],
   "source": []
  }
 ],
 "metadata": {
  "kernelspec": {
   "display_name": "Python 3",
   "language": "python",
   "name": "python3"
  },
  "language_info": {
   "codemirror_mode": {
    "name": "ipython",
    "version": 3
   },
   "file_extension": ".py",
   "mimetype": "text/x-python",
   "name": "python",
   "nbconvert_exporter": "python",
   "pygments_lexer": "ipython3",
   "version": "3.8.8"
  }
 },
 "nbformat": 4,
 "nbformat_minor": 5
}
